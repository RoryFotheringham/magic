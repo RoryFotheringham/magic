{
 "cells": [
  {
   "cell_type": "code",
   "execution_count": null,
   "metadata": {},
   "outputs": [],
   "source": [
    "import matplotlib.pyplot as plt\n",
    "import numpy as np\n",
    "\n",
    "\n"
   ]
  },
  {
   "cell_type": "code",
   "execution_count": null,
   "metadata": {},
   "outputs": [],
   "source": [
    "\n",
    "ndlonly_d3 = np.array([61.471559286117554, 15.164979696273804, 13.014830589294434, 2.337695360183716, 61.454972982406616, 15.223514080047607])\n",
    "\n",
    "ndlonly_d4 = np.array([14.539244174957275, 20.843597650527954, 130.12650632858276, 7.386984586715698, 14.847110748291016, 20.842536449432373])\n",
    "\n",
    "ndlonly_d5 = np.array([123.59522342681885, 47.341208934783936, 4.1173317432403564, 202.43934178352356, 120.65417981147766, 46.925182819366455])\n",
    "\n",
    "ndlonly_d6= np.array([72.18792176246643, 876.2719774246216, 1823.0972754955292, 2958.985743522644, 70.66720461845398 ])\n",
    "\n",
    "\n",
    "ndlonly_means = [np.mean(ndlonly_d3), np.mean(ndlonly_d4), np.mean(ndlonly_d5), np.mean(ndlonly_d6)]\n",
    "\n",
    "ndlonly_std = [np.std(ndlonly_d3), np.std(ndlonly_d4), np.std(ndlonly_d5), np.std(ndlonly_d6)]\n",
    "\n",
    "\n",
    "\n",
    "\n",
    "asym_ndl_d3 = np.array([4.998441934585571, 3.8826496601104736, 21.033782482147217, 2.104843854904175, 4.896327257156372, 3.8527112007141113])\n",
    "\n",
    "asym_ndl_d4 = np.array([82.04593849182129, 96.94890570640564, 4.005739688873291, 12.23444414138794, 81.66008377075195, 97.41531753540039])\n",
    "\n",
    "asym_ndl_d5 = np.array([40.1849365234375, 34.77399682998657, 75.99318194389343, 756.550794839859,  756.550794839859, 32.81431436538696])\n",
    "\n",
    "asym_ndl_d6 = np.array([89.62654829025269, 519.22132396698, 1645.268443107605])\n",
    "\n",
    "\n",
    "asym_ndl_means = [np.mean(asym_ndl_d3), np.mean(asym_ndl_d4), np.mean(asym_ndl_d5), np.mean(asym_ndl_d6)]\n",
    "\n",
    "asym_ndl_std = [np.std(asym_ndl_d3), np.std(asym_ndl_d4), np.std(asym_ndl_d5), np.std(asym_ndl_d6)]\n",
    "\n",
    "\n",
    "depths = ['3', '4', '5', '6']\n",
    "\n",
    "plt.figure(figsize=(10,6))\n",
    "plt.plot(depths, asym_ndl_means, label='asym_ndl')\n",
    "plt.plot(depths, ndlonly_means, label='ndl_only')\n",
    "plt.legend()\n",
    "plt.show()"
   ]
  },
  {
   "cell_type": "code",
   "execution_count": null,
   "metadata": {},
   "outputs": [],
   "source": []
  }
 ],
 "metadata": {
  "kernelspec": {
   "display_name": "Python 3",
   "language": "python",
   "name": "python3"
  },
  "language_info": {
   "codemirror_mode": {
    "name": "ipython",
    "version": 3
   },
   "file_extension": ".py",
   "mimetype": "text/x-python",
   "name": "python",
   "nbconvert_exporter": "python",
   "pygments_lexer": "ipython3",
   "version": "3.8.10"
  }
 },
 "nbformat": 4,
 "nbformat_minor": 4
}
